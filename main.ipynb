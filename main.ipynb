{
 "cells": [
  {
   "cell_type": "code",
   "execution_count": 8,
   "metadata": {},
   "outputs": [
    {
     "name": "stdout",
     "output_type": "stream",
     "text": [
      "Collecting tensorflow-hub\n",
      "  Downloading tensorflow_hub-0.13.0-py2.py3-none-any.whl (100 kB)\n",
      "     -------------------------------------- 100.6/100.6 kB 1.9 MB/s eta 0:00:00\n",
      "Requirement already satisfied: numpy>=1.12.0 in c:\\users\\stasj\\appdata\\local\\programs\\python\\python311\\lib\\site-packages (from tensorflow-hub) (1.23.5)\n",
      "Requirement already satisfied: protobuf>=3.19.6 in c:\\users\\stasj\\appdata\\local\\programs\\python\\python311\\lib\\site-packages (from tensorflow-hub) (4.23.3)\n",
      "Installing collected packages: tensorflow-hub\n",
      "Successfully installed tensorflow-hub-0.13.0\n"
     ]
    },
    {
     "name": "stderr",
     "output_type": "stream",
     "text": [
      "\n",
      "[notice] A new release of pip available: 22.3.1 -> 23.1.2\n",
      "[notice] To update, run: python.exe -m pip install --upgrade pip\n"
     ]
    }
   ],
   "source": [
    "# !pip install opencv-python\n",
    "# !pip install tensorflow\n",
    "!pip install --upgrade tensorflow-hub"
   ]
  },
  {
   "cell_type": "code",
   "execution_count": 3,
   "metadata": {},
   "outputs": [],
   "source": [
    "import cv2\n",
    "import tensorflow as tf\n",
    "import numpy as np"
   ]
  },
  {
   "cell_type": "code",
   "execution_count": 16,
   "metadata": {},
   "outputs": [],
   "source": [
    "def preprocess(image):\n",
    "    image = cv2.cvtColor(image, cv2.COLOR_BGR2RGB)\n",
    "    image = cv2.resize(image, (640, 640))\n",
    "    image = image / 255.0\n",
    "    image = np.expand_dims(image, axis=0).astype('float32')S\n",
    "    return image"
   ]
  },
  {
   "cell_type": "code",
   "execution_count": 15,
   "metadata": {},
   "outputs": [],
   "source": [
    "def postprocess(result, original_image):\n",
    "    num_detections = int(result.pop('num_detections'))\n",
    "    detection_boxes = result['detection_boxes'][:num_detections]\n",
    "    detection_classes = result['detection_classes'][:num_detections].astype(int)\n",
    "    detection_scores = result['detection_scores'][:num_detections]\n",
    "    image_height, image_width, _ = original_image.shape\n",
    "    detection_boxes = detection_boxes * np.array([image_height, image_width, image_height, image_width])\n",
    "    final_boxes = []\n",
    "    final_labels = []\n",
    "    for i in range(num_detections):\n",
    "        if detection_scores[i] > 0.5:  \n",
    "            box = detection_boxes[i].astype(int)\n",
    "            label = detection_classes[i]\n",
    "            final_boxes.append(box)\n",
    "            final_labels.append(label)\n",
    "    return final_boxes, final_labels"
   ]
  },
  {
   "cell_type": "code",
   "execution_count": 9,
   "metadata": {},
   "outputs": [
    {
     "name": "stdout",
     "output_type": "stream",
     "text": [
      "INFO:tensorflow:Saver not created because there are no variables in the graph to restore\n"
     ]
    },
    {
     "name": "stderr",
     "output_type": "stream",
     "text": [
      "INFO:tensorflow:Saver not created because there are no variables in the graph to restore\n"
     ]
    },
    {
     "name": "stdout",
     "output_type": "stream",
     "text": [
      "INFO:tensorflow:Assets written to: ./model/assets\n"
     ]
    },
    {
     "name": "stderr",
     "output_type": "stream",
     "text": [
      "INFO:tensorflow:Assets written to: ./model/assets\n"
     ]
    }
   ],
   "source": [
    "import tensorflow as tf\n",
    "import tensorflow_hub as hub\n",
    "\n",
    "# Specify the model's URL from TensorFlow Hub\n",
    "module_handle = \"https://tfhub.dev/google/faster_rcnn/openimages_v4/inception_resnet_v2/1\"\n",
    "\n",
    "# Load the model\n",
    "detector = hub.load(module_handle).signatures['default']\n",
    "\n",
    "# Save the model locally\n",
    "tf.saved_model.save(detector, \"./model/\")"
   ]
  },
  {
   "cell_type": "code",
   "execution_count": 17,
   "metadata": {},
   "outputs": [
    {
     "ename": "TypeError",
     "evalue": "pruned(images): expected argument #0(zero-based) to be a Tensor; got ndarray ([[[[0.4509804  0.54901963 0.5647059 ]\n   [0.44705883 0.5529412  0.56078434]\n   [0.43529412 0.54901963 0.5568628 ]\n   ...\n   [1.         1.         1.        ]\n   [1.         1.         1.        ]\n   [1.         1.         1.        ]]\n\n  [[0.44705883 0.54509807 0.56078434]\n   [0.44313726 0.54901963 0.5568628 ]\n   [0.4392157  0.54509807 0.5568628 ]\n   ...\n   [1.         1.         1.        ]\n   [1.         1.         1.        ]\n   [1.         1.         1.        ]]\n\n  [[0.4509804  0.54901963 0.5529412 ]\n   [0.44313726 0.54509807 0.5529412 ]\n   [0.4392157  0.5411765  0.5529412 ]\n   ...\n   [1.         1.         1.        ]\n   [1.         1.         1.        ]\n   [1.         1.         1.        ]]\n\n  ...\n\n  [[0.22352941 0.34117648 0.40392157]\n   [0.23137255 0.34509805 0.40784314]\n   [0.23529412 0.34117648 0.40784314]\n   ...\n   [0.56078434 0.70980394 0.80784315]\n   [0.5568628  0.7058824  0.80784315]\n   [0.54901963 0.7019608  0.8       ]]\n\n  [[0.21176471 0.3372549  0.39607844]\n   [0.21960784 0.34117648 0.4       ]\n   [0.21960784 0.33333334 0.39607844]\n   ...\n   [0.5647059  0.7019608  0.8039216 ]\n   [0.54901963 0.69411767 0.8       ]\n   [0.54509807 0.6901961  0.79607844]]\n\n  [[0.2        0.32941177 0.3882353 ]\n   [0.20392157 0.32941177 0.3882353 ]\n   [0.2        0.31764707 0.38039216]\n   ...\n   [0.56078434 0.6862745  0.8       ]\n   [0.5529412  0.6862745  0.8       ]\n   [0.5411765  0.6745098  0.78431374]]]]).",
     "output_type": "error",
     "traceback": [
      "\u001b[1;31m---------------------------------------------------------------------------\u001b[0m",
      "\u001b[1;31mTypeError\u001b[0m                                 Traceback (most recent call last)",
      "Cell \u001b[1;32mIn[17], line 17\u001b[0m\n\u001b[0;32m     14\u001b[0m input_frame \u001b[39m=\u001b[39m preprocess(frame)\n\u001b[0;32m     16\u001b[0m \u001b[39m# Run the model\u001b[39;00m\n\u001b[1;32m---> 17\u001b[0m outputs \u001b[39m=\u001b[39m model(input_frame)\n\u001b[0;32m     19\u001b[0m \u001b[39m# Postprocess the outputs\u001b[39;00m\n\u001b[0;32m     20\u001b[0m boxes, labels \u001b[39m=\u001b[39m postprocess(outputs, frame)\n",
      "File \u001b[1;32mc:\\Users\\stasj\\AppData\\Local\\Programs\\Python\\Python311\\Lib\\site-packages\\tensorflow\\python\\eager\\polymorphic_function\\monomorphic_function.py:1477\u001b[0m, in \u001b[0;36mConcreteFunction.__call__\u001b[1;34m(self, *args, **kwargs)\u001b[0m\n\u001b[0;32m   1427\u001b[0m \u001b[39mdef\u001b[39;00m \u001b[39m__call__\u001b[39m(\u001b[39mself\u001b[39m, \u001b[39m*\u001b[39margs, \u001b[39m*\u001b[39m\u001b[39m*\u001b[39mkwargs):\n\u001b[0;32m   1428\u001b[0m \u001b[39m  \u001b[39m\u001b[39m\"\"\"Executes the wrapped function.\u001b[39;00m\n\u001b[0;32m   1429\u001b[0m \n\u001b[0;32m   1430\u001b[0m \u001b[39m  ConcreteFunctions have two signatures:\u001b[39;00m\n\u001b[1;32m   (...)\u001b[0m\n\u001b[0;32m   1475\u001b[0m \u001b[39m    TypeError: If the arguments do not match the function's signature.\u001b[39;00m\n\u001b[0;32m   1476\u001b[0m \u001b[39m  \"\"\"\u001b[39;00m\n\u001b[1;32m-> 1477\u001b[0m   \u001b[39mreturn\u001b[39;00m \u001b[39mself\u001b[39;49m\u001b[39m.\u001b[39;49m_call_impl(args, kwargs)\n",
      "File \u001b[1;32mc:\\Users\\stasj\\AppData\\Local\\Programs\\Python\\Python311\\Lib\\site-packages\\tensorflow\\python\\eager\\polymorphic_function\\monomorphic_function.py:1495\u001b[0m, in \u001b[0;36mConcreteFunction._call_impl\u001b[1;34m(self, args, kwargs, cancellation_manager)\u001b[0m\n\u001b[0;32m   1492\u001b[0m     \u001b[39mexcept\u001b[39;00m \u001b[39mTypeError\u001b[39;00m:\n\u001b[0;32m   1493\u001b[0m       \u001b[39mraise\u001b[39;00m structured_err\n\u001b[1;32m-> 1495\u001b[0m \u001b[39mreturn\u001b[39;00m \u001b[39mself\u001b[39;49m\u001b[39m.\u001b[39;49m_call_with_flat_signature(args, kwargs, cancellation_manager)\n",
      "File \u001b[1;32mc:\\Users\\stasj\\AppData\\Local\\Programs\\Python\\Python311\\Lib\\site-packages\\tensorflow\\python\\eager\\polymorphic_function\\monomorphic_function.py:1546\u001b[0m, in \u001b[0;36mConcreteFunction._call_with_flat_signature\u001b[1;34m(self, args, kwargs, cancellation_manager)\u001b[0m\n\u001b[0;32m   1543\u001b[0m \u001b[39mfor\u001b[39;00m i, arg \u001b[39min\u001b[39;00m \u001b[39menumerate\u001b[39m(args):\n\u001b[0;32m   1544\u001b[0m   \u001b[39mif\u001b[39;00m \u001b[39mnot\u001b[39;00m \u001b[39misinstance\u001b[39m(\n\u001b[0;32m   1545\u001b[0m       arg, (ops\u001b[39m.\u001b[39mTensor, resource_variable_ops\u001b[39m.\u001b[39mBaseResourceVariable)):\n\u001b[1;32m-> 1546\u001b[0m     \u001b[39mraise\u001b[39;00m \u001b[39mTypeError\u001b[39;00m(\u001b[39mf\u001b[39m\u001b[39m\"\u001b[39m\u001b[39m{\u001b[39;00m\u001b[39mself\u001b[39m\u001b[39m.\u001b[39m_flat_signature_summary()\u001b[39m}\u001b[39;00m\u001b[39m: expected argument \u001b[39m\u001b[39m\"\u001b[39m\n\u001b[0;32m   1547\u001b[0m                     \u001b[39mf\u001b[39m\u001b[39m\"\u001b[39m\u001b[39m#\u001b[39m\u001b[39m{\u001b[39;00mi\u001b[39m}\u001b[39;00m\u001b[39m(zero-based) to be a Tensor; \u001b[39m\u001b[39m\"\u001b[39m\n\u001b[0;32m   1548\u001b[0m                     \u001b[39mf\u001b[39m\u001b[39m\"\u001b[39m\u001b[39mgot \u001b[39m\u001b[39m{\u001b[39;00m\u001b[39mtype\u001b[39m(arg)\u001b[39m.\u001b[39m\u001b[39m__name__\u001b[39m\u001b[39m}\u001b[39;00m\u001b[39m (\u001b[39m\u001b[39m{\u001b[39;00marg\u001b[39m}\u001b[39;00m\u001b[39m).\u001b[39m\u001b[39m\"\u001b[39m)\n\u001b[0;32m   1549\u001b[0m \u001b[39mreturn\u001b[39;00m \u001b[39mself\u001b[39m\u001b[39m.\u001b[39m_call_flat(args, \u001b[39mself\u001b[39m\u001b[39m.\u001b[39mcaptured_inputs, cancellation_manager)\n",
      "\u001b[1;31mTypeError\u001b[0m: pruned(images): expected argument #0(zero-based) to be a Tensor; got ndarray ([[[[0.4509804  0.54901963 0.5647059 ]\n   [0.44705883 0.5529412  0.56078434]\n   [0.43529412 0.54901963 0.5568628 ]\n   ...\n   [1.         1.         1.        ]\n   [1.         1.         1.        ]\n   [1.         1.         1.        ]]\n\n  [[0.44705883 0.54509807 0.56078434]\n   [0.44313726 0.54901963 0.5568628 ]\n   [0.4392157  0.54509807 0.5568628 ]\n   ...\n   [1.         1.         1.        ]\n   [1.         1.         1.        ]\n   [1.         1.         1.        ]]\n\n  [[0.4509804  0.54901963 0.5529412 ]\n   [0.44313726 0.54509807 0.5529412 ]\n   [0.4392157  0.5411765  0.5529412 ]\n   ...\n   [1.         1.         1.        ]\n   [1.         1.         1.        ]\n   [1.         1.         1.        ]]\n\n  ...\n\n  [[0.22352941 0.34117648 0.40392157]\n   [0.23137255 0.34509805 0.40784314]\n   [0.23529412 0.34117648 0.40784314]\n   ...\n   [0.56078434 0.70980394 0.80784315]\n   [0.5568628  0.7058824  0.80784315]\n   [0.54901963 0.7019608  0.8       ]]\n\n  [[0.21176471 0.3372549  0.39607844]\n   [0.21960784 0.34117648 0.4       ]\n   [0.21960784 0.33333334 0.39607844]\n   ...\n   [0.5647059  0.7019608  0.8039216 ]\n   [0.54901963 0.69411767 0.8       ]\n   [0.54509807 0.6901961  0.79607844]]\n\n  [[0.2        0.32941177 0.3882353 ]\n   [0.20392157 0.32941177 0.3882353 ]\n   [0.2        0.31764707 0.38039216]\n   ...\n   [0.56078434 0.6862745  0.8       ]\n   [0.5529412  0.6862745  0.8       ]\n   [0.5411765  0.6745098  0.78431374]]]])."
     ]
    }
   ],
   "source": [
    "# Load the model\n",
    "model = tf.saved_model.load('./model/')\n",
    "# Open the webcam\n",
    "cap = cv2.VideoCapture(0)\n",
    "\n",
    "while True:\n",
    "    # Read a frame from the webcam\n",
    "    ret, frame = cap.read()\n",
    "\n",
    "    if not ret:\n",
    "        break\n",
    "\n",
    "    # Preprocess the frame\n",
    "    input_frame = preprocess(frame)\n",
    "\n",
    "    # Run the model\n",
    "    outputs = model(input_frame)\n",
    "\n",
    "    # Postprocess the outputs\n",
    "    boxes, labels = postprocess(outputs, frame)\n",
    "\n",
    "    # Draw the bounding boxes on the original frame\n",
    "    for box, label in zip(boxes, labels):\n",
    "        cv2.rectangle(frame, (box[1], box[0]), (box[3], box[2]), (255, 0, 0), 2)\n",
    "        cv2.putText(frame, str(label), (box[1], box[0]), cv2.FONT_HERSHEY_SIMPLEX, 1, (255, 0, 0), 2)\n",
    "\n",
    "    # Display the frame\n",
    "    cv2.imshow('Webcam Stream', frame)\n",
    "\n",
    "    # Break the loop if 'q' is pressed\n",
    "    if cv2.waitKey(1) & 0xFF == ord('q'):\n",
    "        break\n",
    "\n",
    "# Release the webcam and close the window\n",
    "cap.release()\n",
    "cv2.destroyAllWindows()"
   ]
  }
 ],
 "metadata": {
  "kernelspec": {
   "display_name": "Python 3",
   "language": "python",
   "name": "python3"
  },
  "language_info": {
   "codemirror_mode": {
    "name": "ipython",
    "version": 3
   },
   "file_extension": ".py",
   "mimetype": "text/x-python",
   "name": "python",
   "nbconvert_exporter": "python",
   "pygments_lexer": "ipython3",
   "version": "3.11.1"
  },
  "orig_nbformat": 4
 },
 "nbformat": 4,
 "nbformat_minor": 2
}
